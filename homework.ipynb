{
  "cells": [
    {
      "cell_type": "markdown",
      "metadata": {
        "id": "zMOsXjmDIc_V"
      },
      "source": [
        "# DX 602 Week 5 Homework"
      ]
    },
    {
      "cell_type": "markdown",
      "metadata": {
        "id": "Q1oSs9usHRbI"
      },
      "source": [
        "## Introduction\n",
        "\n",
        "In this homework assignment, you will practice plotting data with Matplotlib, and exercise previous Python skills to support preparing data for charts.\n",
        "\n",
        "The problems in this assignment will be graded manually due to their visual nature, so you will not have automatic grading this week."
      ]
    },
    {
      "cell_type": "markdown",
      "metadata": {
        "id": "XH3wZrEVHfzx"
      },
      "source": [
        "## Example Code\n",
        "\n",
        "You may find it helpful to refer to this GitHub repository of Jupyter notebooks for example code.\n",
        "\n",
        "* https://github.com/bu-cds-omds/dx602-examples\n",
        "\n",
        "Any calculations demonstrated in code examples or videos may be found in these notebooks, and you are allowed to copy this example code in your homework answers."
      ]
    },
    {
      "cell_type": "markdown",
      "metadata": {
        "id": "3TIZLfhBKnge"
      },
      "source": [
        "### Submission\n",
        "\n",
        "Submit this homework to Gradescope like usual.\n",
        "\n",
        "Most of this homework will be manually graded, so you will only get immediate feedback from the auto-grading process for a few problems."
      ]
    },
    {
      "cell_type": "markdown",
      "metadata": {
        "id": "S7sRNJHqaK9T"
      },
      "source": [
        "## Shared Imports\n",
        "\n",
        "Do not import any other modules.\n",
        "In particular, other charting modules such as Seaborn are forbidden."
      ]
    },
    {
      "cell_type": "code",
      "execution_count": 1,
      "metadata": {
        "id": "zbVrRjcpaKa3"
      },
      "outputs": [
        {
          "name": "stderr",
          "output_type": "stream",
          "text": [
            "Matplotlib is building the font cache; this may take a moment.\n"
          ]
        }
      ],
      "source": [
        "import math\n",
        "\n",
        "import matplotlib.pyplot as plt"
      ]
    },
    {
      "cell_type": "markdown",
      "metadata": {
        "id": "OXs18GMzIjo_"
      },
      "source": [
        "## Problems"
      ]
    },
    {
      "cell_type": "markdown",
      "metadata": {
        "id": "NOyGX6dRIwh7"
      },
      "source": [
        "### Problem 1\n",
        "\n",
        "Use `plt.scatter` to plot the data in `q1x` and `q1y`, using them as the x and y coordinates respectively.\n"
      ]
    },
    {
      "cell_type": "code",
      "execution_count": 3,
      "metadata": {
        "id": "ofu1hDKZYvTb"
      },
      "outputs": [],
      "source": [
        "# DO NOT CHANGE\n",
        "\n",
        "q1r = [i / 120 for i in range(20, 120)]\n",
        "q1x = [math.cos(i / 10) * q1r[i] for i in range(100)]\n",
        "q1y = [math.sin(i / 10) * q1r[i] for i in range(100)]"
      ]
    },
    {
      "cell_type": "code",
      "execution_count": 4,
      "metadata": {
        "colab": {
          "base_uri": "https://localhost:8080/"
        },
        "id": "ikOHosNHZM9Y",
        "outputId": "bd007f38-16a1-4d74-85d3-e7bac4a398ee"
      },
      "outputs": [
        {
          "data": {
            "text/plain": [
              "[0.16666666666666666,\n",
              " 0.17412572892365452,\n",
              " 0.17967887260422763,\n",
              " 0.18310616041574115,\n",
              " 0.18421219880057704,\n",
              " 0.18282970039382768,\n",
              " 0.17882271656376364,\n",
              " 0.17208949213900993,\n",
              " 0.16256489884767192,\n",
              " 0.1502224089987439]"
            ]
          },
          "execution_count": 4,
          "metadata": {},
          "output_type": "execute_result"
        }
      ],
      "source": [
        "# show the first 10 entries of q1x\n",
        "q1x[:10]"
      ]
    },
    {
      "cell_type": "code",
      "execution_count": 5,
      "metadata": {
        "colab": {
          "base_uri": "https://localhost:8080/"
        },
        "id": "hJkbihpXZN3c",
        "outputId": "4c3779f8-92c0-4a42-c843-2f4455dad3db"
      },
      "outputs": [
        {
          "data": {
            "text/plain": [
              "[0.0,\n",
              " 0.017470847913194927,\n",
              " 0.03642271064576122,\n",
              " 0.05664137294342342,\n",
              " 0.07788366846173012,\n",
              " 0.0998803205425423,\n",
              " 0.12233920256892433,\n",
              " 0.1449489796284805,\n",
              " 0.16738308787655531,\n",
              " 0.18930400315997517]"
            ]
          },
          "execution_count": 5,
          "metadata": {},
          "output_type": "execute_result"
        }
      ],
      "source": [
        "# show the first 10 entries of q1y\n",
        "q1y[:10]"
      ]
    },
    {
      "cell_type": "code",
      "execution_count": 6,
      "metadata": {
        "colab": {
          "base_uri": "https://localhost:8080/"
        },
        "id": "6LkLW4Lca3FJ",
        "outputId": "f18192ba-6b33-4baa-9cfc-c9725d52c35b"
      },
      "outputs": [
        {
          "data": {
            "text/plain": [
              "<matplotlib.collections.PathCollection at 0x792a4f112c00>"
            ]
          },
          "execution_count": 6,
          "metadata": {},
          "output_type": "execute_result"
        },
        {
          "data": {
            "image/png": "[encoded data removed]",
            "text/plain": [
              "<Figure size 640x480 with 1 Axes>"
            ]
          },
          "metadata": {},
          "output_type": "display_data"
        }
      ],
      "source": [
        "# YOUR CHANGES HERE\n",
        "\n",
        "plt.scatter(q1x, q1y)"
      ]
    },
    {
      "cell_type": "markdown",
      "metadata": {
        "id": "98R7YY2GIwTs"
      },
      "source": [
        "### Problem 2\n",
        "\n",
        "Use `plt.plot` to plot the data in `q2x` and `q2y`, using them as the x and y coordinates respectively."
      ]
    },
    {
      "cell_type": "code",
      "execution_count": 7,
      "metadata": {
        "id": "f9vVGXpZa5oo"
      },
      "outputs": [],
      "source": [
        "# DO NOT CHANGE\n",
        "\n",
        "q2r = [math.sin(i / 10) for i in range(100)]\n",
        "q2x = [math.cos(i * 2 * math.pi / 100) * q2r[i] for i in range(100)]\n",
        "q2y = [math.sin(i * 2 * math.pi / 100) * q2r[i] for i in range(100)]"
      ]
    },
    {
      "cell_type": "code",
      "execution_count": 8,
      "metadata": {
        "colab": {
          "base_uri": "https://localhost:8080/"
        },
        "id": "iCQOGf5_b5eE",
        "outputId": "43124e35-6804-40fd-b1f1-59cb6f85964a"
      },
      "outputs": [
        {
          "data": {
            "text/plain": [
              "[<matplotlib.lines.Line2D at 0x792a4f12acc0>]"
            ]
          },
          "execution_count": 8,
          "metadata": {},
          "output_type": "execute_result"
        },
        {
          "data": {
            "image/png": "[encoded data removed]",
            "text/plain": [
              "<Figure size 640x480 with 1 Axes>"
            ]
          },
          "metadata": {},
          "output_type": "display_data"
        }
      ],
      "source": [
        "# YOUR CHANGES HERE\n",
        "\n",
        "plt.plot(q2x, q2y)"
      ]
    },
    {
      "cell_type": "markdown",
      "metadata": {
        "id": "CUxEu39LIwGQ"
      },
      "source": [
        "### Problem 3\n",
        "\n",
        "Plot the given data in `q3strawberries` and `q3bananas` in the same line chart with the values in `q3days` for a shared x axis.\n",
        "Each line should be labeled nicely, and their colors should be set to red and yellow respectively."
      ]
    },
    {
      "cell_type": "code",
      "execution_count": 9,
      "metadata": {
        "id": "g0irLR_CbsMg"
      },
      "outputs": [],
      "source": [
        "# DO NOT CHANGE\n",
        "\n",
        "q3days = range(10)\n",
        "q3strawberries = [1, 2, 2, 4, 2, 5, 6, 5, 6, 8]\n",
        "q3bananas = [1, 1, 1, 2, 2, 2, 3, 3, 3, 4]"
      ]
    },
    {
      "cell_type": "code",
      "execution_count": 23,
      "metadata": {
        "colab": {
          "base_uri": "https://localhost:8080/"
        },
        "id": "yGLLveU_ceT4",
        "outputId": "a0be0b00-3fd9-4781-e2d9-a6940e3ddb6d"
      },
      "outputs": [
        {
          "data": {
            "text/plain": [
              "Text(0, 0.5, 'Number of Fruit')"
            ]
          },
          "execution_count": 23,
          "metadata": {},
          "output_type": "execute_result"
        },
        {
          "data": {
            "image/png": "[encoded data removed]",
            "text/plain": [
              "<Figure size 640x480 with 1 Axes>"
            ]
          },
          "metadata": {},
          "output_type": "display_data"
        }
      ],
      "source": [
        "# YOUR CHANGES HERE\n",
        "plt.plot(q3days, q3bananas, color=\"Yellow\", label=\"Bananas\")\n",
        "plt.plot(q3days, q3strawberries, color=\"Red\", label=\"Strawberries\")\n",
        "plt.title(\"Strawberries vs Bananas by Day\")\n",
        "plt.legend()\n",
        "plt.xlabel(\"Days\")\n",
        "plt.ylabel(\"Number of Fruit\")"
      ]
    },
    {
      "cell_type": "markdown",
      "metadata": {
        "id": "en7qhf26Iv3h"
      },
      "source": [
        "### Problem 4\n",
        "\n",
        "The same data is in `q4days`, `q4strawberries` and `q4bananas` as was used for problem 3.\n",
        "This time, plot the strawberry and banana charts in two separate charts with the strawberry data above the banana data.\n",
        "Plot these charts from the same cell using `plt.subplot`."
      ]
    },
    {
      "cell_type": "code",
      "execution_count": 35,
      "metadata": {
        "id": "4L_meVn1c2w4"
      },
      "outputs": [
        {
          "data": {
            "text/plain": [
              "Text(0, 0.5, 'Number of Fruit')"
            ]
          },
          "execution_count": 35,
          "metadata": {},
          "output_type": "execute_result"
        },
        {
          "data": {
            "image/png": "[encoded data removed]",
            "text/plain": [
              "<Figure size 640x480 with 2 Axes>"
            ]
          },
          "metadata": {},
          "output_type": "display_data"
        }
      ],
      "source": [
        "# DO NOT CHANGE\n",
        "plt.subplot(211)\n",
        "plt.plot(q3days, q3bananas, color=\"Yellow\", label=\"Bananas\")\n",
        "plt.title(\"Bananas by Day\")\n",
        "plt.xlabel(\"Days\")\n",
        "plt.ylabel(\"Number of Fruit\")\n",
        "plt.subplot(212)\n",
        "plt.plot(q3days, q3strawberries, color=\"Red\", label=\"Strawberries\")\n",
        "plt.title(\"Strawberries by Day\")\n",
        "plt.xlabel(\"Days\")\n",
        "plt.ylabel(\"Number of Fruit\")"
      ]
    },
    {
      "cell_type": "code",
      "execution_count": null,
      "metadata": {
        "colab": {
          "base_uri": "https://localhost:8080/"
        },
        "id": "kSTLYP0idGSI",
        "outputId": "e469379d-284b-4624-bf24-055b93f9cfaa"
      },
      "outputs": [
        {
          "data": {
            "text/plain": [
              "Ellipsis"
            ]
          },
          "execution_count": 15,
          "metadata": {},
          "output_type": "execute_result"
        }
      ],
      "source": [
        "# YOUR CHANGES HERE\n",
        "\n"
      ]
    },
    {
      "cell_type": "markdown",
      "metadata": {
        "id": "nwK2CcauIvoL"
      },
      "source": [
        "### Problem 5\n",
        "\n",
        "Read the following code.\n",
        "What text will be above the graph?\n",
        "\n",
        "```\n",
        "plt.plot(q5x, q5y, label=\"mystery #1\")\n",
        "plt.xlabel(\"mystery #2\")\n",
        "plt.ylabel(\"mystery #3\")\n",
        "plt.title(\"mystery #4\")\n",
        "```"
      ]
    },
    {
      "cell_type": "code",
      "execution_count": 17,
      "metadata": {
        "id": "COz3AnSJegj1"
      },
      "outputs": [],
      "source": [
        "# YOUR CHANGES HERE\n",
        "\n",
        "p5 = ..."
      ]
    },
    {
      "cell_type": "code",
      "execution_count": 18,
      "metadata": {
        "colab": {
          "base_uri": "https://localhost:8080/"
        },
        "id": "KUAtvRe6ff7c",
        "outputId": "94dfa2d4-0f4e-40af-d7fd-53625c7c0dc4"
      },
      "outputs": [
        {
          "data": {
            "text/plain": [
              "Ellipsis"
            ]
          },
          "execution_count": 18,
          "metadata": {},
          "output_type": "execute_result"
        }
      ],
      "source": [
        "p5"
      ]
    },
    {
      "cell_type": "markdown",
      "metadata": {
        "id": "ctjR0n6UIvaM"
      },
      "source": [
        "### Problem 6\n",
        "\n",
        "Plot the values in `q6x` and `q6y` as x and y values respectively, making sure to set the ranges appropriately to see where the variation is large or small compared to typical values."
      ]
    },
    {
      "cell_type": "code",
      "execution_count": 19,
      "metadata": {
        "id": "nmprPz_ne9gC"
      },
      "outputs": [],
      "source": [
        "# DO NOT CHANGE\n",
        "\n",
        "q6x = [34, 52, 55, 66, 75, 82, 85, 99]\n",
        "q6y = [10.3, 10.5, 10.2, 11.1, 10.1, 10.5, 11.2, 11.3]"
      ]
    },
    {
      "cell_type": "code",
      "execution_count": 20,
      "metadata": {
        "colab": {
          "base_uri": "https://localhost:8080/"
        },
        "id": "BCEozI_xfRoL",
        "outputId": "151fe713-ae97-4b68-b300-7cf778477faa"
      },
      "outputs": [
        {
          "data": {
            "text/plain": [
              "Ellipsis"
            ]
          },
          "execution_count": 20,
          "metadata": {},
          "output_type": "execute_result"
        }
      ],
      "source": [
        "# YOUR CHANGES HERE\n",
        "\n",
        "..."
      ]
    },
    {
      "cell_type": "markdown",
      "metadata": {
        "id": "BqH2tRGPIvMH"
      },
      "source": [
        "### Problem 7\n",
        "\n",
        "Make a scatter plot of the x and y values in `q7x` and `q7y` repeated four different ways in the same chart as follows.\n",
        "1. Plot the original data without change.\n",
        "2. Plot -x and y instead of x and y. This flips the data horizontally around the y axis.\n",
        "3. Plot x and -y instead of x and y. This flips the data vertically around the x axis.\n",
        "4. Plot -x and -y instead of x and y. This flips the data horizontally and vertically."
      ]
    },
    {
      "cell_type": "code",
      "execution_count": 22,
      "metadata": {
        "id": "jfZdy5b7MTW3"
      },
      "outputs": [],
      "source": [
        "# DO NOT CHANGE\n",
        "\n",
        "q7y = [i / 500 for i in range(1000)]\n",
        "q7x = [math.sqrt(1 - (y - 1)**2) for y in q7y]"
      ]
    },
    {
      "cell_type": "code",
      "execution_count": 23,
      "metadata": {
        "colab": {
          "base_uri": "https://localhost:8080/"
        },
        "id": "rFBRgAfcYZaJ",
        "outputId": "f9ec0acf-2c36-43f9-b7aa-2a438a983024"
      },
      "outputs": [
        {
          "data": {
            "text/plain": [
              "Ellipsis"
            ]
          },
          "execution_count": 23,
          "metadata": {},
          "output_type": "execute_result"
        }
      ],
      "source": [
        "# YOUR CHANGES HERE\n",
        "\n",
        "..."
      ]
    },
    {
      "cell_type": "markdown",
      "metadata": {
        "id": "3QiCcw3LIu_n"
      },
      "source": [
        "### Problem 8\n",
        "\n",
        "Plot 3 subplots with the data drawn from `q8a_x` and `q8a_y` for the first subplot, `q8b_x` and `q8b_y` for the second subplot, and `q8c_x` and `q8c_y` for the third subplot.\n",
        "Make sure that the ranges of each axis are set appropriately for easy comparison between subplots."
      ]
    },
    {
      "cell_type": "code",
      "execution_count": 25,
      "metadata": {
        "id": "pEZYOkfbgzWl"
      },
      "outputs": [],
      "source": [
        "# DO NOT CHANGE\n",
        "\n",
        "q8a_x = [1, 2, 3, 4, 5]\n",
        "q8a_y = [1, 2, 3, 2, 1]\n",
        "\n",
        "q8b_x = [-2, -1, 0, 1, 2]\n",
        "q8b_y = [5, 3, 1, 3, 5]\n",
        "\n",
        "q8c_x = [0, 2, 4, 6, 8]\n",
        "q8c_y = [5, 4, 3, 2, 1]"
      ]
    },
    {
      "cell_type": "code",
      "execution_count": 26,
      "metadata": {
        "colab": {
          "base_uri": "https://localhost:8080/"
        },
        "id": "SgmCJYDVhSek",
        "outputId": "1afb941c-91f1-4a56-978b-c93e2a073053"
      },
      "outputs": [
        {
          "data": {
            "text/plain": [
              "Ellipsis"
            ]
          },
          "execution_count": 26,
          "metadata": {},
          "output_type": "execute_result"
        }
      ],
      "source": [
        "# YOUR CHANGES HERE\n",
        "\n",
        "..."
      ]
    },
    {
      "cell_type": "markdown",
      "metadata": {
        "id": "c3gU0JPiIuxH"
      },
      "source": [
        "### Problem 9\n",
        "\n",
        "Read the following code.\n",
        "\n",
        "```\n",
        "plt.subplot(1, 5, 1)\n",
        "plt.plot(q9x, q9ya)\n",
        "plt.plot(q9x, q9yb)\n",
        "plt.subplot(1, 5, 2)\n",
        "plt.plot(q9x, q9yc)\n",
        "```\n",
        "\n",
        "Set `p9` to the number of charts generated."
      ]
    },
    {
      "cell_type": "code",
      "execution_count": 28,
      "metadata": {
        "id": "Qr2nN-h-gE4W"
      },
      "outputs": [],
      "source": [
        "# YOUR CHANGES HERE\n",
        "\n",
        "p9 = ..."
      ]
    },
    {
      "cell_type": "markdown",
      "metadata": {
        "id": "rCkj_ZxKIumA"
      },
      "source": [
        "### Problem 10\n",
        "\n",
        "The variables `q10` is initialized with 5 steps of the Collatz sequence starting from 15.\n",
        "Collatz sequences work with the following rule.\n",
        "\n",
        "```\n",
        "if the current value x is odd:\n",
        "    the next value will be 3x+1\n",
        "else:\n",
        "    the next value will be x/2\n",
        "```\n",
        "\n",
        "Extend `q10` to ten entries following this rule, then plot them as a line chart.\n",
        "Use the values in `q10` as the y values.\n",
        "You can use the default values for x in the `plt.plot` call."
      ]
    },
    {
      "cell_type": "code",
      "execution_count": 30,
      "metadata": {
        "id": "6y0BtGE1biwD"
      },
      "outputs": [],
      "source": [
        "# DO NOT CHANGE\n",
        "\n",
        "q10 = [15, 46, 23, 70, 35]"
      ]
    },
    {
      "cell_type": "code",
      "execution_count": 31,
      "metadata": {
        "id": "pnGK74ONcYJe"
      },
      "outputs": [
        {
          "data": {
            "text/plain": [
              "Ellipsis"
            ]
          },
          "execution_count": 31,
          "metadata": {},
          "output_type": "execute_result"
        }
      ],
      "source": [
        "# YOUR CHANGES HERE\n",
        "\n",
        "..."
      ]
    },
    {
      "cell_type": "markdown",
      "metadata": {
        "id": "6R3tzD2QIuR3"
      },
      "source": [
        "### Problem 11\n",
        "\n",
        "Make a scatter plot using x and y values loaded from `f11.csv`.\n",
        "\n",
        "This data set is the \"Datasaurus\" that inspired the [Datasaurus Dozen](https://www.research.autodesk.com/publications/same-stats-different-graphs/)."
      ]
    },
    {
      "cell_type": "code",
      "execution_count": 32,
      "metadata": {
        "id": "pkKXz1hyZL1X"
      },
      "outputs": [
        {
          "data": {
            "text/plain": [
              "Ellipsis"
            ]
          },
          "execution_count": 32,
          "metadata": {},
          "output_type": "execute_result"
        }
      ],
      "source": [
        "# YOUR CHANGES HERE\n",
        "\n",
        "..."
      ]
    },
    {
      "cell_type": "markdown",
      "metadata": {
        "id": "OngzRqUbIuAh"
      },
      "source": [
        "### Problem 12\n",
        "\n",
        "Plot a line chart of using the data in `q12x` and `q12y` for the x and y values respectively.\n",
        "Beware that the data is not sorted yet."
      ]
    },
    {
      "cell_type": "code",
      "execution_count": 33,
      "metadata": {
        "id": "0D9GCWsei0W8"
      },
      "outputs": [],
      "source": [
        "# DO NOT CHANGE\n",
        "\n",
        "q12x = [1, 9, 5, 7, 8, 2, 0, 3, 6, 4]\n",
        "q12y = [x**2 + 1 for x in q12x]"
      ]
    },
    {
      "cell_type": "code",
      "execution_count": 34,
      "metadata": {
        "colab": {
          "base_uri": "https://localhost:8080/"
        },
        "id": "y1KzP66SjDHV",
        "outputId": "7b1f02bb-3094-476a-ed66-2e9be5e8f68f"
      },
      "outputs": [
        {
          "data": {
            "text/plain": [
              "Ellipsis"
            ]
          },
          "execution_count": 34,
          "metadata": {},
          "output_type": "execute_result"
        }
      ],
      "source": [
        "# YOUR CHANGES HERE\n",
        "\n",
        "..."
      ]
    },
    {
      "cell_type": "markdown",
      "metadata": {
        "id": "uasiTXCFItwU"
      },
      "source": [
        "### Problem 13\n",
        "\n",
        "Read the following code.\n",
        "\n",
        "```\n",
        "plt.subplot(3, 1, 1)\n",
        "plt.plot(q13a_x, q13a_y)\n",
        "plt.plot(q13b_x, q13b_y)\n",
        "\n",
        "plt.subplot(3, 1, 2)\n",
        "plt.plot(q13c_x, q13c_y)\n",
        "\n",
        "plt.subplot(3, 1, 3)\n",
        "plt.subplot(q13d_x, q13d_y)\n",
        "plt.subplot(q13e_x, q13e_y)\n",
        "plt.subplot(q13f_x, q13f_y)\n",
        "```\n",
        "\n",
        "Set `p13` to the number of data series in the first plot.\n"
      ]
    },
    {
      "cell_type": "code",
      "execution_count": 36,
      "metadata": {
        "id": "5yx0t0-STQo8"
      },
      "outputs": [],
      "source": [
        "# YOUR CHANGES HERE\n",
        "\n",
        "p13 = ..."
      ]
    },
    {
      "cell_type": "markdown",
      "metadata": {
        "id": "R78NFlq6Itfk"
      },
      "source": [
        "### Problem 14\n",
        "\n",
        "Modify the following code cell to save the chart to `p14.png`.\n"
      ]
    },
    {
      "cell_type": "code",
      "execution_count": 56,
      "metadata": {},
      "outputs": [],
      "source": [
        "# DO NOT CHANGE\n",
        "\n",
        "xs = [i / 200 for i in range(1000)]\n"
      ]
    },
    {
      "cell_type": "code",
      "execution_count": 57,
      "metadata": {
        "colab": {
          "base_uri": "https://localhost:8080/",
          "height": 489
        },
        "id": "mzI8pKIgdEBL",
        "outputId": "ed1d075f-a681-4867-854b-42299d4446bb"
      },
      "outputs": [
        {
          "data": {
            "text/plain": [
              "Ellipsis"
            ]
          },
          "execution_count": 57,
          "metadata": {},
          "output_type": "execute_result"
        },
        {
          "data": {
            "image/png": "[encoded data removed]",
            "text/plain": [
              "<Figure size 640x480 with 1 Axes>"
            ]
          },
          "metadata": {},
          "output_type": "display_data"
        }
      ],
      "source": [
        "# DO NOT CHANGE\n",
        "\n",
        "plt.plot(xs, [math.sin(x) for x in xs], label=\"sin(x)\")\n",
        "plt.plot(xs, [math.cos(x) for x in xs], label=\"cos(x)\")\n",
        "\n",
        "plt.legend()\n",
        "plt.title(\"Comparing Sine and Cosine\")\n",
        "plt.xlabel(\"X\")\n",
        "\n",
        "# YOUR CHANGES HERE\n",
        "\n",
        "..."
      ]
    },
    {
      "cell_type": "markdown",
      "metadata": {
        "id": "ZTUZdyG3ItSP"
      },
      "source": [
        "### Problem 15\n",
        "\n",
        "Use the function `math.comb` to make a bar chart illustrating the binomial distribution for $n=10$.\n",
        "That is, for integers x from zero to ten, there should be a bar whose height is $10 \\choose x$."
      ]
    },
    {
      "cell_type": "code",
      "execution_count": 47,
      "metadata": {
        "id": "_uNityAxeiO2"
      },
      "outputs": [
        {
          "data": {
            "text/plain": [
              "Ellipsis"
            ]
          },
          "execution_count": 47,
          "metadata": {},
          "output_type": "execute_result"
        }
      ],
      "source": [
        "# YOUR CHANGES HERE\n",
        "\n",
        "..."
      ]
    },
    {
      "cell_type": "markdown",
      "metadata": {
        "id": "xooiNPf_ItCt"
      },
      "source": [
        "### Problem 16\n",
        "\n",
        "Plot a histogram of the values in `q16` using the function `plt.hist`."
      ]
    },
    {
      "cell_type": "code",
      "execution_count": 48,
      "metadata": {
        "id": "T2Tl50JCShfl"
      },
      "outputs": [],
      "source": [
        "# DO NOT CHANGE\n",
        "\n",
        "q16 = [0.00, 0.02, 0.04, 0.06, 0.08, 0.10, 0.12, 0.14, 0.16, 0.18, 0.20, 0.22, 0.24, 0.27, 0.29, 0.31, 0.33, 0.35, 0.37, 0.39, 0.41, 0.43, 0.45, 0.47, 0.49, 0.51, 0.53, 0.55, 0.57, 0.59, 0.61, 0.63, 0.65, 0.67, 0.69, 0.71, 0.73, 0.76, 0.78, 0.80, 0.82, 0.84, 0.86, 0.88, 0.90, 0.92, 0.94, 0.96, 0.98, 1.00, -0.00, -0.02, -0.04, -0.06, -0.08, -0.10, -0.12, -0.14, -0.16, -0.18, -0.20, -0.22, -0.24, -0.27, -0.29, -0.31, -0.33, -0.35, -0.37, -0.39, -0.41, -0.43, -0.45, -0.47, -0.49, -0.51, -0.53, -0.55, -0.57, -0.59, -0.61, -0.63, -0.65, -0.67, -0.69, -0.71, -0.73, -0.76, -0.78, -0.80, -0.82, -0.84, -0.86, -0.88, -0.90, -0.92, -0.94, -0.96, -0.98, -1.00, -0.00, -0.02, -0.04, -0.06, -0.08, -0.10, -0.12, -0.14, -0.16, -0.18, -0.20, -0.22, -0.24, -0.27, -0.29, -0.31, -0.33, -0.35, -0.37, -0.39, -0.41, -0.43, -0.45, -0.47, -0.49, -0.51, -0.53, -0.55, -0.57, -0.59, -0.61, -0.63, -0.65, -0.67, -0.69, -0.71, -0.73, -0.76, -0.78, -0.80, -0.82, -0.84, -0.86, -0.88, -0.90, -0.92, -0.94, -0.96, -0.98, -1.00, 0.00, 0.02, 0.04, 0.06, 0.08, 0.10, 0.12, 0.14, 0.16, 0.18, 0.20, 0.22, 0.24, 0.27, 0.29, 0.31, 0.33, 0.35, 0.37, 0.39, 0.41, 0.43, 0.45, 0.47, 0.49, 0.51, 0.53, 0.55, 0.57, 0.59, 0.61, 0.63, 0.65, 0.67, 0.69, 0.71, 0.73, 0.76, 0.78, 0.80, 0.82, 0.84, 0.86, 0.88, 0.90, 0.92, 0.94, 0.96, 0.98, 1.00, 0.0, 0, 0.01, 0.02, 0.03, 0.04, 0.05, 0.06, 0.07, 0.08, 0.09, 0.1, 0.11, 0.12, 0.135, 0.145, 0.155, 0.165, 0.175, 0.185, 0.195, 0.205, 0.215, 0.225, 0.235, 0.245, 0.255, 0.265, 0.275, 0.285, 0.295, 0.305, 0.315, 0.325, 0.335, 0.345, 0.355, 0.365, 0.38, 0.39, 0.4, 0.41, 0.42, 0.43, 0.44, 0.45, 0.46, 0.47, 0.48, 0.49, 0.5, 0, -0.01, -0.02, -0.03, -0.04, -0.05, -0.06, -0.07, -0.08, -0.09, -0.1, -0.11, -0.12, -0.135, -0.145, -0.155, -0.165, -0.175, -0.185, -0.195, -0.205, -0.215, -0.225, -0.235, -0.245, -0.255, -0.265, -0.275, -0.285, -0.295, -0.305, -0.315, -0.325, -0.335, -0.345, -0.355, -0.365, -0.38, -0.39, -0.4, -0.41, -0.42, -0.43, -0.44, -0.45, -0.46, -0.47, -0.48, -0.49, -0.5, 0, -0.01, -0.02, -0.03, -0.04, -0.05, -0.06, -0.07, -0.08, -0.09, -0.1, -0.11, -0.12, -0.135, -0.145, -0.155, -0.165, -0.175, -0.185, -0.195, -0.205, -0.215, -0.225, -0.235, -0.245, -0.255, -0.265, -0.275, -0.285, -0.295, -0.305, -0.315, -0.325, -0.335, -0.345, -0.355, -0.365, -0.38, -0.39, -0.4, -0.41, -0.42, -0.43, -0.44, -0.45, -0.46, -0.47, -0.48, -0.49, -0.5, 0, 0.01, 0.02, 0.03, 0.04, 0.05, 0.06, 0.07, 0.08, 0.09, 0.1, 0.11, 0.12, 0.135, 0.145, 0.155, 0.165, 0.175, 0.185, 0.195, 0.205, 0.215, 0.225, 0.235, 0.245, 0.255, 0.265, 0.275, 0.285, 0.295, 0.305, 0.315, 0.325, 0.335, 0.345, 0.355, 0.365, 0.38, 0.39, 0.4, 0.41, 0.42, 0.43, 0.44, 0.45, 0.46, 0.47, 0.48, 0.49, 0.5, 0, 0.0025, 0.005, 0.0075, 0.01, 0.0125, 0.015, 0.0175, 0.02, 0.0225, 0.025, 0.0275, 0.03, 0.03375, 0.03625, 0.03875, 0.04125, 0.04375, 0.04625, 0.04875, 0.05125, 0.05375, 0.05625, 0.05875, 0.06125, 0.06375, 0.06625, 0.06875, 0.07125, 0.07375, 0.07625, 0.07875, 0.08125, 0.08375, 0.08625, 0.08875, 0.09125, 0.095, 0.0975, 0.1, 0.1025, 0.105, 0.1075, 0.11, 0.1125, 0.115, 0.1175, 0.12, 0.1225, 0.125, 0, -0.0025, -0.005, -0.0075, -0.01, -0.0125, -0.015, -0.0175, -0.02, -0.0225, -0.025, -0.0275, -0.03, -0.03375, -0.03625, -0.03875, -0.04125, -0.04375, -0.04625, -0.04875, -0.05125, -0.05375, -0.05625, -0.05875, -0.06125, -0.06375, -0.06625, -0.06875, -0.07125, -0.07375, -0.07625, -0.07875, -0.08125, -0.08375, -0.08625, -0.08875, -0.09125, -0.095, -0.0975, -0.1, -0.1025, -0.105, -0.1075, -0.11, -0.1125, -0.115, -0.1175, -0.12, -0.1225, -0.125, 0, -0.0025, -0.005, -0.0075, -0.01, -0.0125, -0.015, -0.0175, -0.02, -0.0225, -0.025, -0.0275, -0.03, -0.03375, -0.03625, -0.03875, -0.04125, -0.04375, -0.04625, -0.04875, -0.05125, -0.05375, -0.05625, -0.05875, -0.06125, -0.06375, -0.06625, -0.06875, -0.07125, -0.07375, -0.07625, -0.07875, -0.08125, -0.08375, -0.08625, -0.08875, -0.09125, -0.095, -0.0975, -0.1, -0.1025, -0.105, -0.1075, -0.11, -0.1125, -0.115, -0.1175, -0.12, -0.1225, -0.125, 0, 0.0025, 0.005, 0.0075, 0.01, 0.0125, 0.015, 0.0175, 0.02, 0.0225, 0.025, 0.0275, 0.03, 0.03375, 0.03625, 0.03875, 0.04125, 0.04375, 0.04625, 0.04875, 0.05125, 0.05375, 0.05625, 0.05875, 0.06125, 0.06375, 0.06625, 0.06875, 0.07125, 0.07375, 0.07625, 0.07875, 0.08125, 0.08375, 0.08625, 0.08875, 0.09125, 0.095, 0.0975, 0.1, 0.1025, 0.105, 0.1075, 0.11, 0.1125, 0.115, 0.1175, 0.12, 0.1225, 0.125]"
      ]
    },
    {
      "cell_type": "code",
      "execution_count": 49,
      "metadata": {
        "colab": {
          "base_uri": "https://localhost:8080/"
        },
        "id": "lEgns8jnTDqV",
        "outputId": "4a728c46-8ba4-41be-8446-d9f7b5907a91"
      },
      "outputs": [
        {
          "data": {
            "text/plain": [
              "Ellipsis"
            ]
          },
          "execution_count": 49,
          "metadata": {},
          "output_type": "execute_result"
        }
      ],
      "source": [
        "# YOUR CHANGES HERE\n",
        "\n",
        "..."
      ]
    },
    {
      "cell_type": "markdown",
      "metadata": {
        "id": "ogNQErzsIsr3"
      },
      "source": [
        "### Problem 17\n",
        "\n",
        "Plot the factorial function from n=1 to 10 using log scale for better legibility.\n",
        "\n",
        "Recall that the factorial of $n$, denoted $n!$, is calculated as the product $1 \\times 2 \\times \\ldots \\times n$.\n",
        "The plots that you plot should be $(1, 1!), (2, 2!), (3, 3!), \\ldots, (10, 10!)$.\n",
        "Use [`plt.yscale`](https://matplotlib.org/stable/api/_as_gen/matplotlib.pyplot.yscale.html) to change your y axis to use log scale."
      ]
    },
    {
      "cell_type": "code",
      "execution_count": 50,
      "metadata": {
        "colab": {
          "base_uri": "https://localhost:8080/"
        },
        "id": "bnxc7jaU2Kv-",
        "outputId": "96879072-6fe8-4214-e604-c3a4c5e54ac2"
      },
      "outputs": [
        {
          "data": {
            "text/plain": [
              "Ellipsis"
            ]
          },
          "execution_count": 50,
          "metadata": {},
          "output_type": "execute_result"
        }
      ],
      "source": [
        "# YOUR CHANGES HERE\n",
        "\n",
        "..."
      ]
    },
    {
      "cell_type": "markdown",
      "metadata": {
        "id": "rA5cntMxIsY5"
      },
      "source": [
        "### Problem 18\n",
        "\n",
        "Read the data from `f18.tsv` and parse it as a TSV file.\n",
        "Divide the data by the \"animal\" column and in a subplot for each animal, plot the \"age\" and \"weight\" columns as the x and y axes respectively with a different subplot for each animal.\n",
        "Each subplot should be a line chart, but add markers for each point as some animals only have one data point.\n",
        "Make sure to mention the animal name in the chart titles, and label the axes."
      ]
    },
    {
      "cell_type": "code",
      "execution_count": 51,
      "metadata": {
        "colab": {
          "base_uri": "https://localhost:8080/"
        },
        "id": "OGYa8tD4GAPV",
        "outputId": "e393a367-8dff-4eba-dde1-f6e48a1f18a4"
      },
      "outputs": [
        {
          "data": {
            "text/plain": [
              "Ellipsis"
            ]
          },
          "execution_count": 51,
          "metadata": {},
          "output_type": "execute_result"
        }
      ],
      "source": [
        "# YOUR CHANGES HERE\n",
        "\n",
        "..."
      ]
    },
    {
      "cell_type": "markdown",
      "metadata": {
        "id": "TsZ5utNnIsHa"
      },
      "source": [
        "### Problem 19\n",
        "\n",
        "The file `abalone.tsv` has data from the [UCI Abalone data set](https://archive.ics.uci.edu/dataset/1/abalone).\n",
        "Load the file and plot it as a scatter plot using the length for the x axis and diameter for the y axis.\n",
        "Make sure to label the chart."
      ]
    },
    {
      "cell_type": "code",
      "execution_count": 52,
      "metadata": {
        "colab": {
          "base_uri": "https://localhost:8080/"
        },
        "id": "P4IWoijfN6ag",
        "outputId": "c83c9f8e-0735-4dcc-ea02-d789f5d9f383"
      },
      "outputs": [
        {
          "data": {
            "text/plain": [
              "Ellipsis"
            ]
          },
          "execution_count": 52,
          "metadata": {},
          "output_type": "execute_result"
        }
      ],
      "source": [
        "# YOUR CHANGES HERE\n",
        "\n",
        "..."
      ]
    },
    {
      "cell_type": "markdown",
      "metadata": {
        "id": "6s3UHe9ZIrlc"
      },
      "source": [
        "### Problem 20\n",
        "\n",
        "Read the file `f20.tsv` and parse it as a TSV file.\n",
        "Three of its columns are color, x, and y.\n",
        "Plot these x, y values with the specified color using [`plt.scatter`](https://matplotlib.org/stable/api/_as_gen/matplotlib.pyplot.scatter.html).\n"
      ]
    },
    {
      "cell_type": "markdown",
      "metadata": {
        "id": "8YUE3Hki3mp1"
      },
      "source": [
        "Hint: you may find it useful to separate the rows by color first, and use a separate call to `plt.scatter` for each color."
      ]
    },
    {
      "cell_type": "code",
      "execution_count": 53,
      "metadata": {
        "colab": {
          "base_uri": "https://localhost:8080/"
        },
        "id": "gnH8-dkL3s3d",
        "outputId": "7814918b-8e3f-48f6-f811-31f64ce18886"
      },
      "outputs": [
        {
          "data": {
            "text/plain": [
              "Ellipsis"
            ]
          },
          "execution_count": 53,
          "metadata": {},
          "output_type": "execute_result"
        }
      ],
      "source": [
        "# YOUR CHANGES HERE\n",
        "\n",
        "..."
      ]
    }
  ],
  "metadata": {
    "colab": {
      "toc_visible": false
    },
    "kernelspec": {
      "display_name": "Python 3",
      "name": "python3"
    },
    "language_info": {
      "codemirror_mode": {
        "name": "ipython",
        "version": 3
      },
      "file_extension": ".py",
      "mimetype": "text/x-python",
      "name": "python",
      "nbconvert_exporter": "python",
      "pygments_lexer": "ipython3",
      "version": "3.12.1"
    }
  },
  "nbformat": 4,
  "nbformat_minor": 0
}
